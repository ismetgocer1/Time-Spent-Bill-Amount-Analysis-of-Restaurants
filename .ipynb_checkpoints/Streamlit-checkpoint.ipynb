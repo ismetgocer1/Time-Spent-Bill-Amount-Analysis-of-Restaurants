{
 "cells": [
  {
   "cell_type": "code",
   "execution_count": 4,
   "id": "67efb9f3",
   "metadata": {},
   "outputs": [
    {
     "name": "stdout",
     "output_type": "stream",
     "text": [
      "Overwriting streamlit_app.py\n"
     ]
    }
   ],
   "source": [
    "%%writefile streamlit_app.py \n",
    "import streamlit as st\n",
    "import pandas as pd\n",
    "import pickle\n",
    "from tensorflow.keras.models import load_model\n",
    "from sklearn.preprocessing import MinMaxScaler\n",
    "from sklearn.tree import DecisionTreeRegressor\n",
    "from xgboost import XGBRegressor\n",
    "\n",
    "# Resmi belirli bir genişlikle resim gösterme\n",
    "st.image('TimeSpend.png', caption='Time Spending of Customers in a Restautrant', width=500)\n",
    "\n",
    "st.header(\"Restaurant Bill Estimator\")\n",
    "\n",
    "dt_model = pickle.load(open('final_DT_model.pkl', \"rb\"))\n",
    "xgb_model = pickle.load(open('final_XGB_model.pkl', 'rb')) \n",
    "ann_model = load_model('final_ANN_model.h5')\n",
    "scaler = pickle.load(open('final_scaler_saved.pkl', \"rb\"))\n",
    "\n",
    "st.sidebar.title(\"Please enter details about the bill.\")\n",
    "\n",
    "# Örnek özellik seçimleri\n",
    "meal_type = st.sidebar.selectbox(\"Meal Type\", ['Breakfast', 'Lunch', 'Dinner'])\n",
    "table_location = st.sidebar.selectbox(\"Table Location\", ['Window', 'Center', 'Patrio'])\n",
    "weather_condition = st.sidebar.selectbox(\"Weather Condition\", ['Sunny', 'Cloudy', 'Rainy', 'Snowy'])\n",
    "day = st.sidebar.selectbox(\"Day\", ['Monday', 'Tuesday', 'Wednesday', 'Thursday', 'Friday', 'Saturday', 'Sunday'])\n",
    "age_group = st.sidebar.selectbox(\"Age Group\", ['18-25', '26-35', '36-45', '46-55', '56-65', '65+'])\n",
    "reservation = st.sidebar.radio(\"Reservation\", [1, 0])\n",
    "live_music =  st.sidebar.radio(\"Live Music\", [1, 0])\n",
    "number_of_people = st.sidebar.number_input(\"Number of People\", min_value=1, value=1)\n",
    "time_spent = st.sidebar.number_input(\"Time Spent (minutes)\",  min_value=30)\n",
    "gender = st.sidebar.radio(\"Gender\", ['Male', 'Female', 'Other'])\n",
    "customer_satisfaction = st.sidebar.slider('Customer Satisfaction', 1, 5, 3)\n",
    "\n",
    "# Kullanıcının girdiği verileri bir sözlük olarak kaydetme\n",
    "user_data = {\n",
    "    \"Number of People\": number_of_people,\n",
    "    \"Meal Type\": meal_type,\n",
    "    \"Table Location\": table_location,\n",
    "    \"Weather Condition\": weather_condition,\n",
    "    \"Day\": day,\n",
    "    \"Time Spent (minutes)\": time_spent,\n",
    "    \"Gender\": gender,\n",
    "    \"Reservation\": reservation,\n",
    "    \"Age Group\": age_group,\n",
    "    \"Live Music\": live_music,\n",
    "    \"Customer Satisfaction\": customer_satisfaction\n",
    "}\n",
    "\n",
    "# Kullanıcının girdiği verileri DataFrame'e dönüştürme\n",
    "df_user = pd.DataFrame.from_dict([user_data])\n",
    "\n",
    "st.subheader(\"Entered Information:\")\n",
    "st.dataframe(df_user)\n",
    "\n",
    "# Modelinizin beklediği sütunları buraya ekleyin.\n",
    "columns_expected_by_model = [\n",
    "    'Number of People', 'Time Spent (minutes)',\n",
    "    'Customer Satisfaction', 'Live Music_True', 'Reservation_True',\n",
    "    'Meal Type_Dinner', 'Meal Type_Lunch', 'Day_Monday', 'Day_Saturday',\n",
    "    'Day_Sunday', 'Day_Thursday', 'Day_Tuesday', 'Day_Wednesday',\n",
    "    'Gender_Male', 'Gender_Other', 'Table Location_Patio',\n",
    "    'Table Location_Window', 'Age Group_26-35', 'Age Group_36-45',\n",
    "    'Age Group_46-55', 'Age Group_56-65', 'Age Group_65+',\n",
    "    'Weather Condition_Rainy', 'Weather Condition_Snowy',\n",
    "    'Weather Condition_Sunny'\n",
    "]\n",
    "df_user = pd.get_dummies(df_user).reindex(columns=columns_expected_by_model, fill_value=0)\n",
    "\n",
    "# Verileri ölçeklendirme\n",
    "df_user_scaled = scaler.transform(df_user)\n",
    "\n",
    "# Karar Ağacı Modeli ile Tahmin Yapma\n",
    "dt_prediction = dt_model.predict(df_user_scaled)\n",
    "\n",
    "# XGBoost Modeli ile Tahmin Yapma\n",
    "xgb_prediction = xgb_model.predict(df_user_scaled)\n",
    "\n",
    "# Yapay Sinir Ağı Modeli ile Tahmin Yapma\n",
    "ann_prediction = ann_model.predict(df_user_scaled)\n",
    "\n",
    "# Tahminleri kullanıcıya gösterme\n",
    "st.success(\"Estimated Bill Amount with Decision Tree Model: {:.2f} TL\".format(int(dt_prediction[0])))\n",
    "st.success(\"Estimated Invoice Amount with XGBoost Model: {:.2f} TL\".format(int(xgb_prediction[0])))\n",
    "st.success(\"Estimated Invoice Amount with ANN Model: {:.2f} TL\".format(int(ann_prediction[0][0])))\n",
    "# Kodun sonu\n",
    "\n"
   ]
  },
  {
   "cell_type": "code",
   "execution_count": null,
   "id": "cea6cbb8",
   "metadata": {},
   "outputs": [],
   "source": [
    "!streamlit run streamlit_app.py"
   ]
  }
 ],
 "metadata": {
  "hide_input": false,
  "kernelspec": {
   "display_name": "Python 3 (ipykernel)",
   "language": "python",
   "name": "python3"
  },
  "language_info": {
   "codemirror_mode": {
    "name": "ipython",
    "version": 3
   },
   "file_extension": ".py",
   "mimetype": "text/x-python",
   "name": "python",
   "nbconvert_exporter": "python",
   "pygments_lexer": "ipython3",
   "version": "3.11.5"
  },
  "nbTranslate": {
   "displayLangs": [
    "*"
   ],
   "hotkey": "alt-t",
   "langInMainMenu": true,
   "sourceLang": "en",
   "targetLang": "fr",
   "useGoogleTranslate": true
  },
  "toc": {
   "base_numbering": 1,
   "nav_menu": {},
   "number_sections": true,
   "sideBar": true,
   "skip_h1_title": false,
   "title_cell": "Table of Contents",
   "title_sidebar": "Contents",
   "toc_cell": false,
   "toc_position": {},
   "toc_section_display": true,
   "toc_window_display": false
  },
  "varInspector": {
   "cols": {
    "lenName": 16,
    "lenType": 16,
    "lenVar": 40
   },
   "kernels_config": {
    "python": {
     "delete_cmd_postfix": "",
     "delete_cmd_prefix": "del ",
     "library": "var_list.py",
     "varRefreshCmd": "print(var_dic_list())"
    },
    "r": {
     "delete_cmd_postfix": ") ",
     "delete_cmd_prefix": "rm(",
     "library": "var_list.r",
     "varRefreshCmd": "cat(var_dic_list()) "
    }
   },
   "types_to_exclude": [
    "module",
    "function",
    "builtin_function_or_method",
    "instance",
    "_Feature"
   ],
   "window_display": false
  }
 },
 "nbformat": 4,
 "nbformat_minor": 5
}
